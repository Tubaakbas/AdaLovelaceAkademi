{
 "cells": [
  {
   "cell_type": "markdown",
   "metadata": {},
   "source": [
    "***Exercise***:\n"
   ]
  },
  {
   "cell_type": "markdown",
   "metadata": {},
   "source": [
    "ENG:\n",
    "Use and experience methods from previous lessons with given data. Try to search for other pandas methods to analyze the data such as groupby() and read_csv().\n",
    "\n",
    "TR:\n",
    "Verilen datalar ile önceki derslerdeki metodları kullanın ve deneyimleyin. Verileri analiz etmek için groupby() ve read_csv() gibi diğer pandas metodlarını aramayı deneyin.\n"
   ]
  },
  {
   "cell_type": "markdown",
   "metadata": {},
   "source": [
    "***Solution:***"
   ]
  },
  {
   "cell_type": "code",
   "execution_count": null,
   "metadata": {
    "vscode": {
     "languageId": "plaintext"
    }
   },
   "outputs": [],
   "source": []
  }
 ],
 "metadata": {
  "language_info": {
   "name": "python"
  }
 },
 "nbformat": 4,
 "nbformat_minor": 2
}
