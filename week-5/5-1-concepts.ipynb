{
 "cells": [
  {
   "cell_type": "markdown",
   "metadata": {},
   "source": [
    "Aşağıdaki ifade bir modül olarak içe aktarıldığında belirli bir davranışın uygulanmasını sağlamak için kullanılır.\n",
    "\n",
    "if __name__ == \"__main__\": bloğu, bir betiği modül olarak veya ana program olarak çalıştırılmaya bağlı olarak farklı davranışlar sergilemek için kullanılır ve Python kodunun daha esnek ve modüler olmasına yardımcı olur."
   ]
  },
  {
   "cell_type": "code",
   "execution_count": null,
   "metadata": {},
   "outputs": [],
   "source": [
    "if __name__==\"__main__\":\n",
    "    run_funciton() #fonksiyon çağrıldı"
   ]
  },
  {
   "cell_type": "markdown",
   "metadata": {},
   "source": [
    "# dunder methods in python\n",
    "Python'da \"dunder methods\" veya \"magic methods\" olarak bilinen özel yöntemler, çift alt tire ile başlayan ve biten özel isimlendirmelere sahip özel sınıf yöntemleridir. Bu yöntemler, Python'daki özel bir işlevi veya davranışı tetiklemek için kullanılır.\n",
    "* __init__: Bir sınıfın örneğinin oluşturulması sırasında çağrılan inşa (constructor) yöntemidir.\n",
    "* __str__: print() fonksiyonu kullanıldığında çağrılan yöntemdir. \n",
    "* __len__: len() fonksiyonu çağrıldığında çağrılan yöntemdir. Objenin uzunluğunu (eleman sayısını) döndürmelidir.\n",
    "* __add__: + operatörü kullanıldığında çağrılan yöntemdir. İki objenin toplamını döndürmelidir."
   ]
  },
  {
   "cell_type": "code",
   "execution_count": 1,
   "metadata": {},
   "outputs": [
    {
     "data": {
      "text/plain": [
       "'__main__'"
      ]
     },
     "execution_count": 1,
     "metadata": {},
     "output_type": "execute_result"
    }
   ],
   "source": [
    "__name__ #valible'ın karşılığı main"
   ]
  },
  {
   "cell_type": "markdown",
   "metadata": {},
   "source": [
    "# modules: lib, func, classes, files(.py)\n",
    "# __name__ : modüller arasındaki ilişkiler yönetilebilir. Lib başka bir programın içine import edebiliyoruz. İstemediğimiz kod bloklarının çalışması engellenir.\n",
    "# import/ current file or current code // import mu buradaki bir kod mu\n",
    "# işletim sistemi seviyesi devreye girer."
   ]
  },
  {
   "cell_type": "code",
   "execution_count": null,
   "metadata": {},
   "outputs": [],
   "source": [
    "\"\"\"\n",
    "import pandas as pd #top level code\n",
    "\n",
    "df=pd.DataFrame(\n",
    "    [1, 2]\n",
    ") #not top level code\n",
    "\n",
    "#top level code\n",
    "print(\"this is my module\") \n",
    "print(__name__) #top level code\n",
    "print(pd.__name__) #import ettiğimiz modulun name'i\n",
    "\n",
    "from datetime import timezone\n",
    "\n",
    "import datetime\n",
    "print(timezone.__name__)\n",
    "#print(datetime.__name__) hata verdi datetime import olmadığı için\n",
    "print(datetime.__name__)\n",
    "\"\"\""
   ]
  }
 ],
 "metadata": {
  "kernelspec": {
   "display_name": "Python 3",
   "language": "python",
   "name": "python3"
  },
  "language_info": {
   "codemirror_mode": {
    "name": "ipython",
    "version": 3
   },
   "file_extension": ".py",
   "mimetype": "text/x-python",
   "name": "python",
   "nbconvert_exporter": "python",
   "pygments_lexer": "ipython3",
   "version": "3.11.5"
  }
 },
 "nbformat": 4,
 "nbformat_minor": 2
}
