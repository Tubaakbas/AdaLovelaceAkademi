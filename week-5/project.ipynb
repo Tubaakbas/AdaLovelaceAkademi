{
 "cells": [
  {
   "cell_type": "code",
   "execution_count": null,
   "metadata": {},
   "outputs": [],
   "source": [
    "if __name__==\"__main__\":\n",
    "    run_funciton()"
   ]
  },
  {
   "cell_type": "markdown",
   "metadata": {},
   "source": [
    "# dunder methods in python"
   ]
  },
  {
   "cell_type": "code",
   "execution_count": 1,
   "metadata": {},
   "outputs": [
    {
     "data": {
      "text/plain": [
       "'__main__'"
      ]
     },
     "execution_count": 1,
     "metadata": {},
     "output_type": "execute_result"
    }
   ],
   "source": [
    "__name__ #valible"
   ]
  },
  {
   "cell_type": "markdown",
   "metadata": {},
   "source": [
    "# modules: lib, func, classes, files(.py)\n",
    "# __name__ : modüller arasındaki ilişkiler yönetilebilir. Diğer dosyaları meselea programın içine import edebiliyoruz.\n",
    "# import/ current file or current code // import mu buradaki bir kod mu"
   ]
  },
  {
   "cell_type": "code",
   "execution_count": 2,
   "metadata": {},
   "outputs": [
    {
     "name": "stdout",
     "output_type": "stream",
     "text": [
      "this is my module\n"
     ]
    }
   ],
   "source": [
    "print(\"this is my module\") #top level code"
   ]
  },
  {
   "cell_type": "code",
   "execution_count": null,
   "metadata": {},
   "outputs": [],
   "source": [
    "\"\"\"\n",
    "import pandas as pd #top level code\n",
    "\n",
    "df=pd.DataFrame(\n",
    "    [1, 2]\n",
    ") #not top level code\n",
    "\n",
    "#top level code\n",
    "print(\"this is my module\") \n",
    "print(__name__) #top level code\n",
    "print(pd.__name__) #import ettiğimiz modulun name'i\n",
    "\n",
    "from datetime import timezone\n",
    "\n",
    "import datetime\n",
    "print(timezone.__name__)\n",
    "#print(datetime.__name__) hata verdi datetime import olmadığı için\n",
    "print(datetime.__name__)\n",
    "\"\"\""
   ]
  }
 ],
 "metadata": {
  "kernelspec": {
   "display_name": "Python 3",
   "language": "python",
   "name": "python3"
  },
  "language_info": {
   "codemirror_mode": {
    "name": "ipython",
    "version": 3
   },
   "file_extension": ".py",
   "mimetype": "text/x-python",
   "name": "python",
   "nbconvert_exporter": "python",
   "pygments_lexer": "ipython3",
   "version": "3.11.5"
  }
 },
 "nbformat": 4,
 "nbformat_minor": 2
}
