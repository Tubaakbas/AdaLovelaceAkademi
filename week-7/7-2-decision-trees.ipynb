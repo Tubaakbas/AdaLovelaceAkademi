{
 "cells": [
  {
   "cell_type": "markdown",
   "metadata": {},
   "source": [
    "Decision Trees\n",
    "- Sınıflandırma ve regresyon problemlerini çözmek için kullanılan bir makine öğrenimi modelidir. \n",
    "- Kararları belirlemek ve sonuçları tahmin etmek için veri setindeki özelliklere göre bir dizi karar kuralı kullanır.\n",
    "\n",
    "Örneğin bir sınıflandırma probleminde bir karar ağacı, bir kişinin bir kredi başvurusu için onay alıp almayacağını tahmin etmeye çalışıyorsa :\n",
    "1- Kök Düğüm (Root Node):\n",
    "- Başlangıç ​​noktasıdır ve en önemli özellik seçilir. Örneğin, \"Gelir\" özelliği seçilebilir.\n",
    "\n",
    "2- Branşlar (Branches):\n",
    "- Kök düğümden aşağıya, farklı değer aralıkları veya kategorilerine bölünen dallar ortaya çıkar. Örneğin, \"Gelir\" özelliği için belirli bir eşik değeri seçilir ve bu eşik değerine göre iki ayrı dal oluşturulur: bir dal geliri bu eşik değerinden büyük olanları temsil ederken diğer dal geliri bu eşik değerinden küçük olanları temsil eder.\n",
    "\n",
    "3- Yaprak Düğümleri (Leaf Nodes):\n",
    "- Her bir dalın sonunda, belirli bir sınıf etiketi veya regresyon tahminini temsil eden yaprak düğümleri bulunur. Örneğin, geliri belirli bir eşik değerinden büyük olan bir dalın yaprak düğümü \"Kredi Onayı\" olabilir, küçük olan dalın yaprak düğümü ise \"Kredi Reddi\" olabilir.\n",
    "\n",
    "4- Koşullar ve Kararlar:\n",
    "- Her düğümde, belirli bir özelliğin değeri ile ilgili bir karar alınır ve bu karar, dalların ve yaprak düğümlerin oluşturulmasını sağlar. Örneğin, \"Gelir\" özelliği için \"Eğer Gelir > X, Kredi Onayı; Eğer Gelir <= X, Kredi Reddi\" şeklinde bir koşul olabilir.\n"
   ]
  },
  {
   "cell_type": "markdown",
   "metadata": {},
   "source": [
    "- Daha Fazla Tahmin Gücü (More Predictiveness):\n",
    "\n",
    "Karar ağaçları bağlamında, \"daha fazla tahmin gücü\" genellikle bir bölünmenin, hedef değişkenle ilgili daha homojen veri alt kümeleri oluşturması anlamına gelir. Bu, bir bölünmenin ardından oluşan çocuk düğümlerin ideal olarak aynı sınıfa ait örnekler içermesi ve tahminleri daha doğru hale getirmesi gerektiği anlamına gelir.\n",
    "\n",
    "- Daha Az Safsızlık (Less Impurity):\n",
    "\n",
    "Karar ağaçları, her bölünmede safsızlığı azaltmayı hedefler. Safsızlık, bir düğümdeki sınıfların karışıklığını ölçen bir değerdir. Gini safsızlığı ve entropi gibi yaygın safsızlık ölçüleri bulunmaktadır. Daha düşük safsızlık, çocuk düğümlerin daha homojen olduğu anlamına gelir.\n",
    "\n",
    "- Daha Düşük Entropi (Lower Entropy):\n",
    "\n",
    "Entropi, düzensizlik veya belirsizliği ölçen bir değerdir. Karar ağaçlarında, özellikle entropiyi safsızlık ölçüsü olarak kullananlarda, amaç her bölünmede entropiyi azaltmaktır. Düşük entropi, çocuk düğümlerdeki verinin daha düzenli ve hedef değişken konusunda daha az belirsiz olduğu anlamına gelir.\n",
    "\n",
    "Özetle, bir karar ağacı oluşturulurken algoritma, tahmin gücünü maksimize etmek, safsızlığı azaltmak ve entropiyi düşürmek için bölünme noktalarını seçer. Bu kriterler, her düğümde kararlar alarak veri özelliklerine dayalı bir ağaç yapısı oluşturur ve veri kümesindeki özelliklere dayanarak hedef değişkeni etkili bir şekilde sınıflandırmak veya tahmin yapmak için kullanılır."
   ]
  },
  {
   "cell_type": "markdown",
   "metadata": {},
   "source": [
    "\"Pure Node\": A node in the tree is considered pure if, in all of the cases, the nodes fall into a spesipic category\n",
    "TR:\n",
    " Bir düğümün saf olması, o düğümdeki veri noktalarının tamamının aynı sınıfa ait olması anlamına gelir.\n",
    "\n",
    "- Daha spesifik olarak:\n",
    "\n",
    "    * Eğer bir düğümdeki tüm veri noktaları aynı sınıfa aitse,\n",
    "    * Yani, bu düğümdeki örneklerin tamamı aynı kategoriye veya sınıfa aitse,\n",
    "    *  zaman bu düğüm \"pure\" (saf) olarak adlandırılır.\n",
    "\n",
    "Karar ağaçları, veri kümesini sınıflara bölen bir ağaç yapısı oluşturur. Bir düğüm saf olduğunda, bu düğümdeki veri noktaları homojen ve bir sınıfa aittir. Bu durum, ağacın bu noktada bir tahmin yapabileceği ve eğitildiği sınıfı öğrenebileceği anlamına gelir.\n",
    "\n",
    "Bu durumu örneklemek gerekirse, bir karar ağacı bir sınıflandırma görevi için eğitiliyorsa ve bir düğümdeki tüm veri noktaları \"Meyve: Elma\" kategorisine aitse, bu düğüm \"pure\" olarak kabul edilir. Ağaç, bu düğümdeki veri noktalarının \"Elma\" sınıfına ait olduğunu öğrenir ve bu düğümdeki veriler için tahminde bulunabilir."
   ]
  }
 ],
 "metadata": {
  "language_info": {
   "name": "python"
  }
 },
 "nbformat": 4,
 "nbformat_minor": 2
}
