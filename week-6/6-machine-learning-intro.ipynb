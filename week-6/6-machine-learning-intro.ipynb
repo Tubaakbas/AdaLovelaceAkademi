{
 "cells": [
  {
   "cell_type": "markdown",
   "metadata": {},
   "source": [
    "# Python for ML"
   ]
  },
  {
   "cell_type": "markdown",
   "metadata": {},
   "source": [
    "1- NumPy\n",
    "    Bilimsel hesaplamalar ve matematiksel işlemler için kullanılan temel bir kütüphanedir. NumPy dizileri üzerinde hızlı matematiksel operasyonlar sağlar.\n",
    "\n",
    "2- Scipy: \n",
    "    Bilimsel ve teknik hesaplamalar için kullanılır. İntegral hesaplama, optimizasyon, lineer cebir ve daha pek çok matematiksel işlemi destekler.\n",
    "\n",
    "3- Matplotlib-Seaborn\n",
    "    Veri görselleştirmesi için kullanılan kütüphanelerdir. Matplotlib temel çizimler için kullanılırken, Seaborn daha çekici ve istatistiksel görselleştirmeler yapmak için tasarlanmıştır.\n",
    "\n",
    "4- Pandas:\n",
    "    Veri manipülasyonu ve analizi için kullanılan temel bir kütüphanedir. DataFrame adında bir veri yapısına odaklanır.\n",
    "\n",
    "5- Scikit-learn (sklearn)\n",
    "    Temel makine öğrenimi algoritmalarını ve araçlarını içeren geniş kapsamlı bir kütüphanedir. Sınıflandırma, regresyon, kümeleme, boyut azaltma ve model seçimi gibi birçok konuda algoritmalar sunar.\n",
    "    Numpy ve Scipy ile birlikte kullanılabilir.\n",
    "    Genellikle NumPy, SciPy ve scikit-learn birlikte kullanılır. \n",
    "\n",
    "    Örnek olarak, scikit-learn ile bir model eğitirken veya değerlendirirken, giriş ve çıkış verileri genellikle NumPy dizileri şeklinde sağlanır. SciPy, özellik mühendisliği işlemleri için kullanılabilir ve scikit-learn, model seçimi sırasında çeşitli kriterleri kullanmak için SciPy'nin bazı fonksiyonlarını içerir.Genel olarak, NumPy ve SciPy temel matematiksel ve bilimsel hesaplamalar için kullanılırken, scikit-learn daha çok makine öğrenimi uygulamalarına odaklanmıştır. Birlikte kullanıldıklarında, bu kütüphaneler bir veri bilimi projesinde geniş bir araç seti sunar.\n",
    "    "
   ]
  },
  {
   "cell_type": "markdown",
   "metadata": {},
   "source": [
    "# Süreçler\n",
    "- pre-processing of data,\n",
    "- "
   ]
  },
  {
   "cell_type": "code",
   "execution_count": 1,
   "metadata": {},
   "outputs": [],
   "source": [
    "# pip install scikit-learn\n",
    "from sklearn import preprocessing\n",
    "#X içindeki vektörleri modellemeye daha uygun hale getiriyor\n",
    "X=preprocessing.StandardScaler().fit(X).transform(X)"
   ]
  },
  {
   "cell_type": "code",
   "execution_count": 3,
   "metadata": {},
   "outputs": [],
   "source": [
    "#tTrain-Test split\n",
    "from sklearn.model_selection import train_test_split\n",
    "#random bir şekilde yapıyor\n",
    "x_train, x_test, y_train, y_test=train_test_split(x, y, test_size=0.3)"
   ]
  },
  {
   "cell_type": "code",
   "execution_count": null,
   "metadata": {},
   "outputs": [],
   "source": [
    "#vektör sınıflandırma algoritmalarından biri\n",
    "from sklearn import svm\n",
    "clf=svm.SVC(gamma=0.01, C=90.0) #estimator instance\n",
    "#c değeri pozitif - float olmalı\n",
    "\n",
    "clf.fit(x_train, y_train)\n",
    "\n",
    "#run edebilmek için, yani değerin ne olduğunu bulma\n",
    "clf.predict(x_test)"
   ]
  },
  {
   "cell_type": "code",
   "execution_count": null,
   "metadata": {},
   "outputs": [],
   "source": [
    "#use metrics to avaluate model accuray\n",
    "from sklearn.metrics import confusion_matrix \n",
    "confusion_matrix(y_test, labels=[1,0])"
   ]
  },
  {
   "cell_type": "code",
   "execution_count": 4,
   "metadata": {},
   "outputs": [],
   "source": [
    "#modelin export edilmesi\n",
    "import pickle\n",
    "s=pickle.dumps(clf)"
   ]
  }
 ],
 "metadata": {
  "kernelspec": {
   "display_name": "base",
   "language": "python",
   "name": "python3"
  },
  "language_info": {
   "codemirror_mode": {
    "name": "ipython",
    "version": 3
   },
   "file_extension": ".py",
   "mimetype": "text/x-python",
   "name": "python",
   "nbconvert_exporter": "python",
   "pygments_lexer": "ipython3",
   "version": "3.11.5"
  }
 },
 "nbformat": 4,
 "nbformat_minor": 2
}
