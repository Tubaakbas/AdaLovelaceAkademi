{
 "cells": [
  {
   "cell_type": "markdown",
   "metadata": {},
   "source": [
    "# SQLite:\n",
    "- Hafif ve yerel bir veritabanı yönetim sistemi (DBMS) olan bir yazılım kütüphanesidir. \n",
    "- Python programlama dilinde SQLite ile etkileşimde bulunmak için genellikle sqlite3 modülü kullanılır. Bu modül, Python programlarına SQLite veritabanlarına bağlanma, sorgular yapma ve işlemleri gerçekleştirme imkanı sağlar.\n",
    "- SQLite, bir serverless (sunucu olmayan) ve ilişkisel bir veritabanı yönetim sistemidir. \"Serverless\" terimi, bu tür bir veritabanının bir ayrı sunucu kurulumu gerektirmemesi anlamına gelir. SQLite, tek bir dosyada depolanan ve yerel bir uygulama içinde çalışan bir veritabanı motoru sağlar. \n",
    "- \"Raw SQL\" terimi ise, veritabanına SQL sorgularını direkt olarak yazma anlamına gelir. SQLite, SQL dilini destekler ve bu sayede kullanıcılar SQL sorgularını doğrudan kullanabilirler. Bu özellik, geliştiricilere esneklik sağlar, çünkü özel ve karmaşık sorguları kolayca yazabilir ve yürütebilirler.\n"
   ]
  },
  {
   "cell_type": "code",
   "execution_count": 25,
   "metadata": {},
   "outputs": [],
   "source": [
    "import random"
   ]
  },
  {
   "cell_type": "code",
   "execution_count": 26,
   "metadata": {},
   "outputs": [],
   "source": [
    "def random_int():\n",
    "    return random.randint(1,100)"
   ]
  },
  {
   "cell_type": "code",
   "execution_count": 27,
   "metadata": {},
   "outputs": [],
   "source": [
    "my_list=[\n",
    "    (random_int(), \"apple\", \"red\"),\n",
    "    (random_int(), \"banana\", \"yellow\"),\n",
    "    (random_int(), \"cherry\", \"red\"),\n",
    "    (random_int(), \"date\", \"brown\"),\n",
    "    (random_int(), \"grape\", \"purple\"),\n",
    "    (random_int(), \"kiwi\", \"brown\"),\n",
    "    (random_int(), \"lemon\", \"yellow\"),\n",
    "    (random_int(), \"orange\", \"orange\"),\n",
    "    (random_int(), \"pear\", \"green\"),\n",
    "    (random_int(), \"watermelon\", \"green\") ]"
   ]
  },
  {
   "cell_type": "code",
   "execution_count": 28,
   "metadata": {},
   "outputs": [
    {
     "data": {
      "text/plain": [
       "[(28, 'apple', 'red'),\n",
       " (35, 'banana', 'yellow'),\n",
       " (95, 'cherry', 'red'),\n",
       " (90, 'date', 'brown'),\n",
       " (47, 'grape', 'purple'),\n",
       " (73, 'kiwi', 'brown'),\n",
       " (35, 'lemon', 'yellow'),\n",
       " (80, 'orange', 'orange'),\n",
       " (3, 'pear', 'green'),\n",
       " (33, 'watermelon', 'green')]"
      ]
     },
     "execution_count": 28,
     "metadata": {},
     "output_type": "execute_result"
    }
   ],
   "source": [
    "my_list"
   ]
  },
  {
   "cell_type": "markdown",
   "metadata": {},
   "source": [
    "- conn=sqlite3.connet('example.db'): SQLite veritabanına bağlantı oluştuşturulur.\n",
    "\n",
    "- conn.cursor(): Bağlantı üzerinden bir Cursor nesnesi oluşturulur. Bu nesne, SQL sorgularını veritabanına iletmek için kullanılır.\n",
    "\n",
    "- Tablo oluşturma: \n",
    "    create_table_query = '''\n",
    "    CREATE TABLE IF NOT EXISTS my_table (\n",
    "        id INTEGER PRIMARY KEY,\n",
    "        name TEXT,\n",
    "        age INTEGER\n",
    "    );\n",
    "    '''\n",
    "\n",
    "- executemany ile liste içindeki verileri kullanarak tabloya veri eklenir.\n",
    "    insert_data_query = '''\n",
    "    INSERT INTO my_table (name, age) VALUES (?, ?);\n",
    "    '''\n",
    "    cursor.executemany(insert_data_query, my_list)"
   ]
  },
  {
   "cell_type": "code",
   "execution_count": 29,
   "metadata": {},
   "outputs": [],
   "source": [
    "import sqlite3"
   ]
  },
  {
   "cell_type": "code",
   "execution_count": 30,
   "metadata": {},
   "outputs": [
    {
     "name": "stdout",
     "output_type": "stream",
     "text": [
      "(28, 'apple', 'red')\n",
      "(35, 'banana', 'yellow')\n",
      "(95, 'cherry', 'red')\n",
      "(90, 'date', 'brown')\n",
      "(47, 'grape', 'purple')\n",
      "(73, 'kiwi', 'brown')\n",
      "(35, 'lemon', 'yellow')\n",
      "(80, 'orange', 'orange')\n",
      "(3, 'pear', 'green')\n",
      "(33, 'watermelon', 'green')\n",
      "\n",
      "\n"
     ]
    }
   ],
   "source": [
    "#update script\n",
    "\n",
    "connection=sqlite3.connect(\"fruits.db\")#db e bağlandık\n",
    "\n",
    "cursor=connection.cursor() #nesne oluşturuldu\n",
    "\n",
    "cursor.execute(\"CREATE TABLE fruit (amount interger, fruit text, color text)\") #tablo oluşturuldu\n",
    "\n",
    "cursor.executemany(\"INSERT INTO fruit VALUES (?, ?, ?)\" , my_list) #my_list de bulunan 3 kolon eklendi\n",
    "\n",
    "#  fruit tablosundaki tüm verileri seçer.\n",
    "for row in cursor.execute(\"select * from fruit\"):\n",
    "    print(row)\n",
    "\n",
    "print(\"\\n\")\n"
   ]
  },
  {
   "cell_type": "code",
   "execution_count": 32,
   "metadata": {},
   "outputs": [
    {
     "name": "stdout",
     "output_type": "stream",
     "text": [
      "[(3, 'pear', 'green'), (33, 'watermelon', 'green')]\n"
     ]
    }
   ],
   "source": [
    "#:c placeholder, bu sorguya bir parametre eklediğimizi gösterir. \n",
    "# Bu parametre, {\"c\": \"green\"} şeklinde bir sözlük olarak sağlanır ve :c placeholder'ını \"green\" değeriyle değiştirir.\n",
    "cursor.execute(\"SELECT * FROM fruit WHERE color=:c\", {\"c\": \"green\"})\n",
    "\n",
    "# yukarıdaki sorgudan dönen tüm sonuçları (fetchall), color_search adlı bir liste içinde tutar.\n",
    "color_search = cursor.fetchall()\n",
    "print(color_search)"
   ]
  },
  {
   "cell_type": "code",
   "execution_count": 33,
   "metadata": {},
   "outputs": [
    {
     "name": "stdout",
     "output_type": "stream",
     "text": [
      "[('green', 'yeşil')]\n"
     ]
    }
   ],
   "source": [
    "# translate tablosu oluşturulur\n",
    "cursor.execute(\"CREATE TABLE translate (en_color text, tr_color text)\")\n",
    "\n",
    "# Bu tablo, iki sütundan oluşur: en_color (İngilizce renk) ve tr_color (Türkçe renk).\n",
    "cursor.execute(\"INSERT INTO translate VALUES (?,?)\", (\"green\", \"yeşil\"))\n",
    "\n",
    "#  İngilizce renk sütunu \"green\" olan tüm çevirileri seçer.\n",
    "cursor.execute(\"SELECT * FROM translate WHERE en_color=:c\", {\"c\": \"green\"})\n",
    "\n",
    "#yukarıdaki sorgudan dönen tüm sonuçları (fetchall), translate_search adlı bir liste içinde tutar.\n",
    "translate_search = cursor.fetchall()  \n",
    "\n",
    "print(translate_search)\n"
   ]
  },
  {
   "cell_type": "code",
   "execution_count": 34,
   "metadata": {},
   "outputs": [
    {
     "name": "stdout",
     "output_type": "stream",
     "text": [
      "[3, 'pear', 'yeşil']\n",
      "[33, 'watermelon', 'yeşil']\n"
     ]
    }
   ],
   "source": [
    "# iki farklı sorgu sonucunu karşılaştırarak, eğer belirli bir şart sağlanıyorsa bir değeri çevirmek ve çevrilen veriyi ekrana yazdırma\n",
    "# color_search: green olan satırları tutuyordu\n",
    "for data in color_search:\n",
    "    #liste içinde bir liste (list comprehension) kullanarak, her bir değeri kontrol eder. \n",
    "    # Eğer değer, color_search'teki ilk satırdaki değere (color_search[0][0]) eşitse, o zaman translate_search'teki ilk satırdaki ikinci değeri (translate_search[0][1]) kullanır, \n",
    "    # aksi takdirde orijinal değeri kullanır.\n",
    "    \n",
    "    qs = [translate_search[0][1] if value==translate_search[0][0] else value for value in data]\n",
    "    print(qs)\n",
    "\n",
    "# can use INNER JOIN method"
   ]
  }
 ],
 "metadata": {
  "kernelspec": {
   "display_name": "base",
   "language": "python",
   "name": "python3"
  },
  "language_info": {
   "codemirror_mode": {
    "name": "ipython",
    "version": 3
   },
   "file_extension": ".py",
   "mimetype": "text/x-python",
   "name": "python",
   "nbconvert_exporter": "python",
   "pygments_lexer": "ipython3",
   "version": "3.11.5"
  }
 },
 "nbformat": 4,
 "nbformat_minor": 2
}
