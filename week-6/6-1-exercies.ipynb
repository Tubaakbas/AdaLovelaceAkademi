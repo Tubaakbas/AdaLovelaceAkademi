{
 "cells": [
  {
   "cell_type": "code",
   "execution_count": 1,
   "metadata": {},
   "outputs": [],
   "source": [
    "import random\n",
    "import sqlite3"
   ]
  },
  {
   "cell_type": "code",
   "execution_count": 2,
   "metadata": {},
   "outputs": [],
   "source": [
    "def random_int():\n",
    "    return random.randint(1,100)"
   ]
  },
  {
   "cell_type": "code",
   "execution_count": 3,
   "metadata": {},
   "outputs": [],
   "source": [
    "my_list=[\n",
    "    (random_int(), \"apple\", \"red\"),\n",
    "    (random_int(), \"banana\", \"yellow\"),\n",
    "    (random_int(), \"cherry\", \"red\"),\n",
    "    (random_int(), \"date\", \"brown\"),\n",
    "    (random_int(), \"grape\", \"purple\"),\n",
    "    (random_int(), \"kiwi\", \"brown\"),\n",
    "    (random_int(), \"lemon\", \"yellow\"),\n",
    "    (random_int(), \"orange\", \"orange\"),\n",
    "    (random_int(), \"pear\", \"green\"),\n",
    "    (random_int(), \"watermelon\", \"green\") ]"
   ]
  },
  {
   "cell_type": "code",
   "execution_count": 6,
   "metadata": {},
   "outputs": [
    {
     "name": "stdout",
     "output_type": "stream",
     "text": [
      "(33, 'apple', 'red')\n",
      "(4, 'banana', 'yellow')\n",
      "(15, 'cherry', 'red')\n",
      "(14, 'date', 'brown')\n",
      "(8, 'grape', 'purple')\n",
      "(66, 'kiwi', 'brown')\n",
      "(25, 'lemon', 'yellow')\n",
      "(27, 'orange', 'orange')\n",
      "(8, 'pear', 'green')\n",
      "(97, 'watermelon', 'green')\n",
      "\n",
      "\n"
     ]
    }
   ],
   "source": [
    "#update script\n",
    "\n",
    "connection=sqlite3.connect(\"meyveler.db\")#db e bağlandık\n",
    "\n",
    "cursor=connection.cursor() #nesne oluşturuldu\n",
    "\n",
    "cursor.execute(\"CREATE TABLE meyve (id interger, meyve text, renk text)\") #tablo oluşturuldu\n",
    "\n",
    "cursor.executemany(\"INSERT INTO meyve VALUES (?, ?, ?)\" , my_list) #my_list de bulunan 3 kolon eklendi\n",
    "\n",
    "#  fruit tablosundaki tüm verileri seçer.\n",
    "for row in cursor.execute(\"select * from meyve\"):\n",
    "    print(row)\n",
    "\n",
    "print(\"\\n\")"
   ]
  },
  {
   "cell_type": "code",
   "execution_count": 25,
   "metadata": {},
   "outputs": [
    {
     "name": "stdout",
     "output_type": "stream",
     "text": [
      "[(33, 'apple', 'red'), (4, 'banana', 'yellow'), (15, 'cherry', 'red'), (14, 'date', 'brown'), (8, 'grape', 'purple'), (66, 'kiwi', 'brown'), (25, 'lemon', 'yellow'), (27, 'orange', 'orange'), (8, 'pear', 'green'), (97, 'watermelon', 'green')]\n"
     ]
    }
   ],
   "source": [
    "cursor.execute(\"SELECT * FROM meyve\")\n",
    "color_search = cursor.fetchall()\n",
    "print(color_search)"
   ]
  },
  {
   "cell_type": "code",
   "execution_count": 26,
   "metadata": {},
   "outputs": [
    {
     "name": "stdout",
     "output_type": "stream",
     "text": [
      "[('green', 'yeşil'), ('red', 'kırmızı'), ('yellow', 'sarı'), ('brown', 'kahverengi'), ('purple', 'mor'), ('orange', 'turuncu')]\n"
     ]
    }
   ],
   "source": [
    "# translate tablosu oluşturulur\n",
    "cursor.execute(\"CREATE TABLE translate_table (en_color text, tr_color text)\")\n",
    "\n",
    "# Bu tablo, iki sütundan oluşur: en_color (İngilizce renk) ve tr_color (Türkçe renk).\n",
    "cursor.execute(\"INSERT INTO translate_table VALUES (?,?)\", (\"green\", \"yeşil\"))\n",
    "cursor.execute(\"INSERT INTO translate_table VALUES (?,?)\", (\"red\", \"kırmızı\"))\n",
    "cursor.execute(\"INSERT INTO translate_table VALUES (?,?)\", (\"yellow\", \"sarı\"))\n",
    "cursor.execute(\"INSERT INTO translate_table VALUES (?,?)\", (\"brown\", \"kahverengi\"))\n",
    "cursor.execute(\"INSERT INTO translate_table VALUES (?,?)\", (\"purple\", \"mor\"))\n",
    "cursor.execute(\"INSERT INTO translate_table VALUES (?,?)\", (\"orange\", \"turuncu\"))\n",
    "\n",
    "#  İngilizce renk sütunu \"green\" olan tüm çevirileri seçer.\n",
    "cursor.execute(\"SELECT * FROM translate_table\")\n",
    "\n",
    "#yukarıdaki sorgudan dönen tüm sonuçları (fetchall), translate_search adlı bir liste içinde tutar.\n",
    "translate_search = cursor.fetchall()  \n",
    "\n",
    "print(translate_search)"
   ]
  },
  {
   "cell_type": "code",
   "execution_count": 39,
   "metadata": {},
   "outputs": [
    {
     "name": "stdout",
     "output_type": "stream",
     "text": [
      "[(33, 'apple', 'kırmızı'), (4, 'banana', 'sarı'), (15, 'cherry', 'kırmızı'), (14, 'date', 'kahverengi'), (8, 'grape', 'mor'), (66, 'kiwi', 'kahverengi'), (25, 'lemon', 'sarı'), (27, 'orange', 'turuncu'), (8, 'pear', 'yeşil'), (97, 'watermelon', 'yeşil')]\n"
     ]
    }
   ],
   "source": [
    "# Her bir renk bilgisi (tuple) için\n",
    "for i, color_info in enumerate(color_search):\n",
    "    \n",
    "     # translate_search içindeki her bir çeviri bilgisiyle karşılaştır\n",
    "    for translate_info in translate_search:\n",
    "        \n",
    "        if color_info[2] == translate_info[0]:  # İngilizce renk ismi ile Türkçe renk ismi eşleşirse\n",
    "            color_search[i] = (color_info[0], color_info[1], translate_info[1])  # Türkçe renk ismini güncelle\n",
    "\n",
    "print(color_search)"
   ]
  },
  {
   "cell_type": "markdown",
   "metadata": {},
   "source": [
    "\n",
    "for i, color_info in enumerate(color_search): döngüsü, color_search listesindeki her bir renk bilgisi için döner. enumerate fonksiyonu, listenin her öğesini ve onun sırasını (indeksini) sağlar.\n",
    "\n",
    "İçteki for translate_info in translate_search: döngüsü, her bir renk bilgisi için, translate_search listesindeki her bir çeviri bilgisiyle karşılaştırma yapar.\n",
    "\n",
    "if color_info[2] == translate_info[0]: şartı, İngilizce renk ismi (color_info[2]) ile Türkçe renk ismi (translate_info[0]) eşleşirse, aşağıdaki işlemleri yapar.\n",
    "\n",
    "color_search[i] = (color_info[0], color_info[1], translate_info[1]): Türkçe renk ismini günceller. translate_info[1], translate_search listesindeki çeviri bilgisinin Türkçe renk ismini temsil eder.\n",
    "\n",
    "Sonuçları print(color_search) ifadesi ile ekrana yazdırır.\n"
   ]
  }
 ],
 "metadata": {
  "kernelspec": {
   "display_name": "Python 3",
   "language": "python",
   "name": "python3"
  },
  "language_info": {
   "codemirror_mode": {
    "name": "ipython",
    "version": 3
   },
   "file_extension": ".py",
   "mimetype": "text/x-python",
   "name": "python",
   "nbconvert_exporter": "python",
   "pygments_lexer": "ipython3",
   "version": "3.11.5"
  }
 },
 "nbformat": 4,
 "nbformat_minor": 2
}
