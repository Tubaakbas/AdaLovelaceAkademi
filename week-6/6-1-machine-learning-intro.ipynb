{
 "cells": [
  {
   "cell_type": "markdown",
   "metadata": {},
   "source": [
    "# Python for ML"
   ]
  },
  {
   "cell_type": "markdown",
   "metadata": {},
   "source": [
    "1- NumPy\n",
    "    Bilimsel hesaplamalar ve matematiksel işlemler için kullanılan temel bir kütüphanedir. NumPy dizileri üzerinde hızlı matematiksel operasyonlar sağlar.\n",
    "\n",
    "2- Scipy: \n",
    "    Bilimsel ve teknik hesaplamalar için kullanılır. İntegral hesaplama, optimizasyon, lineer cebir ve daha pek çok matematiksel işlemi destekler.\n",
    "\n",
    "3- Matplotlib-Seaborn\n",
    "    Veri görselleştirmesi için kullanılan kütüphanelerdir. Matplotlib temel çizimler için kullanılırken, Seaborn daha çekici ve istatistiksel görselleştirmeler yapmak için tasarlanmıştır.\n",
    "\n",
    "4- Pandas:\n",
    "    Veri manipülasyonu ve analizi için kullanılan temel bir kütüphanedir. DataFrame adında bir veri yapısına odaklanır.\n",
    "\n",
    "5- Scikit-learn (sklearn)\n",
    "    Temel makine öğrenimi algoritmalarını ve araçlarını içeren geniş kapsamlı bir kütüphanedir. Sınıflandırma, regresyon, kümeleme, boyut azaltma ve model seçimi gibi birçok konuda algoritmalar sunar.\n",
    "    Numpy ve Scipy ile birlikte kullanılabilir.\n",
    "    Genellikle NumPy, SciPy ve scikit-learn birlikte kullanılır. \n",
    "\n",
    "    Örnek olarak, scikit-learn ile bir model eğitirken veya değerlendirirken, giriş ve çıkış verileri genellikle NumPy dizileri şeklinde sağlanır. SciPy, özellik mühendisliği işlemleri için kullanılabilir ve scikit-learn, model seçimi sırasında çeşitli kriterleri kullanmak için SciPy'nin bazı fonksiyonlarını içerir.Genel olarak, NumPy ve SciPy temel matematiksel ve bilimsel hesaplamalar için kullanılırken, scikit-learn daha çok makine öğrenimi uygulamalarına odaklanmıştır. Birlikte kullanıldıklarında, bu kütüphaneler bir veri bilimi projesinde geniş bir araç seti sunar.\n",
    "    "
   ]
  },
  {
   "cell_type": "markdown",
   "metadata": {},
   "source": [
    "# Süreçler\n",
    "- pre-processing of data,\n",
    "- "
   ]
  },
  {
   "cell_type": "code",
   "execution_count": 1,
   "metadata": {},
   "outputs": [],
   "source": [
    "# pip install scikit-learn\n",
    "from sklearn import preprocessing\n",
    "#X içindeki vektörleri modellemeye daha uygun hale getiriyor\n",
    "X=preprocessing.StandardScaler().fit(X).transform(X)"
   ]
  },
  {
   "cell_type": "code",
   "execution_count": 3,
   "metadata": {},
   "outputs": [],
   "source": [
    "#tTrain-Test split\n",
    "from sklearn.model_selection import train_test_split\n",
    "#random bir şekilde yapıyor\n",
    "x_train, x_test, y_train, y_test=train_test_split(x, y, test_size=0.3)"
   ]
  },
  {
   "cell_type": "code",
   "execution_count": null,
   "metadata": {},
   "outputs": [],
   "source": [
    "#vektör sınıflandırma algoritmalarından biri\n",
    "from sklearn import svm\n",
    "clf=svm.SVC(gamma=0.01, C=90.0) #estimator instance\n",
    "#c değeri pozitif - float olmalı\n",
    "\n",
    "clf.fit(x_train, y_train)\n",
    "\n",
    "#run edebilmek için, yani değerin ne olduğunu bulma\n",
    "clf.predict(x_test)"
   ]
  },
  {
   "cell_type": "code",
   "execution_count": null,
   "metadata": {},
   "outputs": [],
   "source": [
    "#use metrics to avaluate model accuray\n",
    "from sklearn.metrics import confusion_matrix \n",
    "confusion_matrix(y_test, labels=[1,0])"
   ]
  },
  {
   "cell_type": "code",
   "execution_count": 4,
   "metadata": {},
   "outputs": [],
   "source": [
    "#modelin export edilmesi\n",
    "import pickle\n",
    "s=pickle.dumps(clf)"
   ]
  },
  {
   "cell_type": "markdown",
   "metadata": {},
   "source": [
    "# Supervised vs Unsupervised\n",
    "\n",
    "\n",
    "\"Supervised learning\" (denetimli öğrenme) ve \"unsupervised learning\" (denetimsiz öğrenme), makine öğrenimi alanındaki iki temel öğrenme paradigmasıdır. İki yaklaşım arasındaki temel fark, kullanılan öğrenme sürecinin nitelidir.\n",
    "\n",
    "# Denetimli Öğrenme (Supervised Learning):\n",
    "1- Tanım:\n",
    "\n",
    "- Denetimli öğrenme, modelin eğitildiği veri setinde etiketlenmiş örneklerin bulunduğu bir öğrenme paradigmadır.\n",
    "- Her eğitim örneği, giriş verileri ve bu verilere karşılık gelen doğru çıkış etiketini içerir.\n",
    "\n",
    "2- Hedef:\n",
    "\n",
    "- Model, eğitim verilerini kullanarak belirli bir görevi öğrenmeye çalışır.\n",
    "- Öğrenilen model, yeni, önce hiç görmediği giriş verileri üzerinde tahminler yapabilir.\n",
    "\n",
    "3- Örnek Uygulamalar:\n",
    "\n",
    "- Sınıflandırma: Bir örneğin belirli bir kategoriye ait olup olmadığını belirleme.\n",
    "- Regresyon: Girişlere dayanarak sürekli bir çıkış değeri tahmin etme.\n",
    "\n",
    "# Denetimsiz Öğrenme (Unsupervised Learning):\n",
    "1- Tanım:\n",
    "\n",
    "- Denetimsiz öğrenme, modelin eğitildiği veri setinde etiketlenmiş örneklerin bulunmadığı bir öğrenme paradigmadır.\n",
    "- Eğitim verileri yalnızca giriş verilerini içerir, herhangi bir doğru çıkış etiketi yoktur.\n",
    "\n",
    "2- Hedef:\n",
    "\n",
    "- Model, veri setindeki yapıyı anlamaya çalışır, ancak spesifik bir hedef veya çıkış etiketi yoktur.\n",
    "- Model, giriş verilerindeki benzerlikleri, desenleri veya yapıları öğrenmeye çalışır.\n",
    "\n",
    "3- Örnek Uygulamalar:\n",
    "\n",
    "- Kümeleme: Veri setinde benzer örnekleri bir araya getirme.\n",
    "- Boyut Azaltma: Yüksek boyutlu veri setlerindeki özellik sayısını azaltma.\n",
    "- Birliktelik Kuralları: Veri setindeki öğeler arasındaki ilişkileri belirleme."
   ]
  },
  {
   "cell_type": "code",
   "execution_count": 5,
   "metadata": {},
   "outputs": [],
   "source": [
    "import pandas as pd\n",
    "import numpy as np"
   ]
  },
  {
   "cell_type": "code",
   "execution_count": 7,
   "metadata": {},
   "outputs": [],
   "source": [
    "cancer_data=pd.read_csv(\"data/cancer_data.csv\")"
   ]
  },
  {
   "cell_type": "code",
   "execution_count": 8,
   "metadata": {},
   "outputs": [
    {
     "data": {
      "text/html": [
       "<div>\n",
       "<style scoped>\n",
       "    .dataframe tbody tr th:only-of-type {\n",
       "        vertical-align: middle;\n",
       "    }\n",
       "\n",
       "    .dataframe tbody tr th {\n",
       "        vertical-align: top;\n",
       "    }\n",
       "\n",
       "    .dataframe thead th {\n",
       "        text-align: right;\n",
       "    }\n",
       "</style>\n",
       "<table border=\"1\" class=\"dataframe\">\n",
       "  <thead>\n",
       "    <tr style=\"text-align: right;\">\n",
       "      <th></th>\n",
       "      <th>id</th>\n",
       "      <th>diagnosis</th>\n",
       "      <th>radius_mean</th>\n",
       "      <th>texture_mean</th>\n",
       "      <th>perimeter_mean</th>\n",
       "      <th>area_mean</th>\n",
       "      <th>smoothness_mean</th>\n",
       "      <th>compactness_mean</th>\n",
       "      <th>concavity_mean</th>\n",
       "      <th>concave points_mean</th>\n",
       "      <th>...</th>\n",
       "      <th>texture_worst</th>\n",
       "      <th>perimeter_worst</th>\n",
       "      <th>area_worst</th>\n",
       "      <th>smoothness_worst</th>\n",
       "      <th>compactness_worst</th>\n",
       "      <th>concavity_worst</th>\n",
       "      <th>concave points_worst</th>\n",
       "      <th>symmetry_worst</th>\n",
       "      <th>fractal_dimension_worst</th>\n",
       "      <th>Unnamed: 32</th>\n",
       "    </tr>\n",
       "  </thead>\n",
       "  <tbody>\n",
       "    <tr>\n",
       "      <th>0</th>\n",
       "      <td>842302</td>\n",
       "      <td>M</td>\n",
       "      <td>17.99</td>\n",
       "      <td>10.38</td>\n",
       "      <td>122.80</td>\n",
       "      <td>1001.0</td>\n",
       "      <td>0.11840</td>\n",
       "      <td>0.27760</td>\n",
       "      <td>0.3001</td>\n",
       "      <td>0.14710</td>\n",
       "      <td>...</td>\n",
       "      <td>17.33</td>\n",
       "      <td>184.60</td>\n",
       "      <td>2019.0</td>\n",
       "      <td>0.1622</td>\n",
       "      <td>0.6656</td>\n",
       "      <td>0.7119</td>\n",
       "      <td>0.2654</td>\n",
       "      <td>0.4601</td>\n",
       "      <td>0.11890</td>\n",
       "      <td>NaN</td>\n",
       "    </tr>\n",
       "    <tr>\n",
       "      <th>1</th>\n",
       "      <td>842517</td>\n",
       "      <td>M</td>\n",
       "      <td>20.57</td>\n",
       "      <td>17.77</td>\n",
       "      <td>132.90</td>\n",
       "      <td>1326.0</td>\n",
       "      <td>0.08474</td>\n",
       "      <td>0.07864</td>\n",
       "      <td>0.0869</td>\n",
       "      <td>0.07017</td>\n",
       "      <td>...</td>\n",
       "      <td>23.41</td>\n",
       "      <td>158.80</td>\n",
       "      <td>1956.0</td>\n",
       "      <td>0.1238</td>\n",
       "      <td>0.1866</td>\n",
       "      <td>0.2416</td>\n",
       "      <td>0.1860</td>\n",
       "      <td>0.2750</td>\n",
       "      <td>0.08902</td>\n",
       "      <td>NaN</td>\n",
       "    </tr>\n",
       "    <tr>\n",
       "      <th>2</th>\n",
       "      <td>84300903</td>\n",
       "      <td>M</td>\n",
       "      <td>19.69</td>\n",
       "      <td>21.25</td>\n",
       "      <td>130.00</td>\n",
       "      <td>1203.0</td>\n",
       "      <td>0.10960</td>\n",
       "      <td>0.15990</td>\n",
       "      <td>0.1974</td>\n",
       "      <td>0.12790</td>\n",
       "      <td>...</td>\n",
       "      <td>25.53</td>\n",
       "      <td>152.50</td>\n",
       "      <td>1709.0</td>\n",
       "      <td>0.1444</td>\n",
       "      <td>0.4245</td>\n",
       "      <td>0.4504</td>\n",
       "      <td>0.2430</td>\n",
       "      <td>0.3613</td>\n",
       "      <td>0.08758</td>\n",
       "      <td>NaN</td>\n",
       "    </tr>\n",
       "    <tr>\n",
       "      <th>3</th>\n",
       "      <td>84348301</td>\n",
       "      <td>M</td>\n",
       "      <td>11.42</td>\n",
       "      <td>20.38</td>\n",
       "      <td>77.58</td>\n",
       "      <td>386.1</td>\n",
       "      <td>0.14250</td>\n",
       "      <td>0.28390</td>\n",
       "      <td>0.2414</td>\n",
       "      <td>0.10520</td>\n",
       "      <td>...</td>\n",
       "      <td>26.50</td>\n",
       "      <td>98.87</td>\n",
       "      <td>567.7</td>\n",
       "      <td>0.2098</td>\n",
       "      <td>0.8663</td>\n",
       "      <td>0.6869</td>\n",
       "      <td>0.2575</td>\n",
       "      <td>0.6638</td>\n",
       "      <td>0.17300</td>\n",
       "      <td>NaN</td>\n",
       "    </tr>\n",
       "    <tr>\n",
       "      <th>4</th>\n",
       "      <td>84358402</td>\n",
       "      <td>M</td>\n",
       "      <td>20.29</td>\n",
       "      <td>14.34</td>\n",
       "      <td>135.10</td>\n",
       "      <td>1297.0</td>\n",
       "      <td>0.10030</td>\n",
       "      <td>0.13280</td>\n",
       "      <td>0.1980</td>\n",
       "      <td>0.10430</td>\n",
       "      <td>...</td>\n",
       "      <td>16.67</td>\n",
       "      <td>152.20</td>\n",
       "      <td>1575.0</td>\n",
       "      <td>0.1374</td>\n",
       "      <td>0.2050</td>\n",
       "      <td>0.4000</td>\n",
       "      <td>0.1625</td>\n",
       "      <td>0.2364</td>\n",
       "      <td>0.07678</td>\n",
       "      <td>NaN</td>\n",
       "    </tr>\n",
       "  </tbody>\n",
       "</table>\n",
       "<p>5 rows × 33 columns</p>\n",
       "</div>"
      ],
      "text/plain": [
       "         id diagnosis  radius_mean  texture_mean  perimeter_mean  area_mean  \\\n",
       "0    842302         M        17.99         10.38          122.80     1001.0   \n",
       "1    842517         M        20.57         17.77          132.90     1326.0   \n",
       "2  84300903         M        19.69         21.25          130.00     1203.0   \n",
       "3  84348301         M        11.42         20.38           77.58      386.1   \n",
       "4  84358402         M        20.29         14.34          135.10     1297.0   \n",
       "\n",
       "   smoothness_mean  compactness_mean  concavity_mean  concave points_mean  \\\n",
       "0          0.11840           0.27760          0.3001              0.14710   \n",
       "1          0.08474           0.07864          0.0869              0.07017   \n",
       "2          0.10960           0.15990          0.1974              0.12790   \n",
       "3          0.14250           0.28390          0.2414              0.10520   \n",
       "4          0.10030           0.13280          0.1980              0.10430   \n",
       "\n",
       "   ...  texture_worst  perimeter_worst  area_worst  smoothness_worst  \\\n",
       "0  ...          17.33           184.60      2019.0            0.1622   \n",
       "1  ...          23.41           158.80      1956.0            0.1238   \n",
       "2  ...          25.53           152.50      1709.0            0.1444   \n",
       "3  ...          26.50            98.87       567.7            0.2098   \n",
       "4  ...          16.67           152.20      1575.0            0.1374   \n",
       "\n",
       "   compactness_worst  concavity_worst  concave points_worst  symmetry_worst  \\\n",
       "0             0.6656           0.7119                0.2654          0.4601   \n",
       "1             0.1866           0.2416                0.1860          0.2750   \n",
       "2             0.4245           0.4504                0.2430          0.3613   \n",
       "3             0.8663           0.6869                0.2575          0.6638   \n",
       "4             0.2050           0.4000                0.1625          0.2364   \n",
       "\n",
       "   fractal_dimension_worst  Unnamed: 32  \n",
       "0                  0.11890          NaN  \n",
       "1                  0.08902          NaN  \n",
       "2                  0.08758          NaN  \n",
       "3                  0.17300          NaN  \n",
       "4                  0.07678          NaN  \n",
       "\n",
       "[5 rows x 33 columns]"
      ]
     },
     "execution_count": 8,
     "metadata": {},
     "output_type": "execute_result"
    }
   ],
   "source": [
    "cancer_data.head()"
   ]
  },
  {
   "cell_type": "markdown",
   "metadata": {},
   "source": [
    "- Attributes: kolon isimleri (içinde veri olan id ve diagnosis hariç)\n",
    "- Features: Her bir attributes verileri\n",
    "- Observation: tek bir satır, bir gözlem\n",
    "\n",
    "ML ilgilenilen datalar büyük çoğunlukla numerik yada kategorik datalardır. Burada diagnosis kategoriktir.\n",
    "\n"
   ]
  },
  {
   "cell_type": "code",
   "execution_count": 10,
   "metadata": {},
   "outputs": [
    {
     "name": "stdout",
     "output_type": "stream",
     "text": [
      "<class 'pandas.core.frame.DataFrame'>\n",
      "RangeIndex: 569 entries, 0 to 568\n",
      "Data columns (total 33 columns):\n",
      " #   Column                   Non-Null Count  Dtype  \n",
      "---  ------                   --------------  -----  \n",
      " 0   id                       569 non-null    int64  \n",
      " 1   diagnosis                569 non-null    object \n",
      " 2   radius_mean              569 non-null    float64\n",
      " 3   texture_mean             569 non-null    float64\n",
      " 4   perimeter_mean           569 non-null    float64\n",
      " 5   area_mean                569 non-null    float64\n",
      " 6   smoothness_mean          569 non-null    float64\n",
      " 7   compactness_mean         569 non-null    float64\n",
      " 8   concavity_mean           569 non-null    float64\n",
      " 9   concave points_mean      569 non-null    float64\n",
      " 10  symmetry_mean            569 non-null    float64\n",
      " 11  fractal_dimension_mean   569 non-null    float64\n",
      " 12  radius_se                569 non-null    float64\n",
      " 13  texture_se               569 non-null    float64\n",
      " 14  perimeter_se             569 non-null    float64\n",
      " 15  area_se                  569 non-null    float64\n",
      " 16  smoothness_se            569 non-null    float64\n",
      " 17  compactness_se           569 non-null    float64\n",
      " 18  concavity_se             569 non-null    float64\n",
      " 19  concave points_se        569 non-null    float64\n",
      " 20  symmetry_se              569 non-null    float64\n",
      " 21  fractal_dimension_se     569 non-null    float64\n",
      " 22  radius_worst             569 non-null    float64\n",
      " 23  texture_worst            569 non-null    float64\n",
      " 24  perimeter_worst          569 non-null    float64\n",
      " 25  area_worst               569 non-null    float64\n",
      " 26  smoothness_worst         569 non-null    float64\n",
      " 27  compactness_worst        569 non-null    float64\n",
      " 28  concavity_worst          569 non-null    float64\n",
      " 29  concave points_worst     569 non-null    float64\n",
      " 30  symmetry_worst           569 non-null    float64\n",
      " 31  fractal_dimension_worst  569 non-null    float64\n",
      " 32  Unnamed: 32              0 non-null      float64\n",
      "dtypes: float64(31), int64(1), object(1)\n",
      "memory usage: 146.8+ KB\n"
     ]
    }
   ],
   "source": [
    "cancer_data.info()"
   ]
  },
  {
   "cell_type": "code",
   "execution_count": 9,
   "metadata": {},
   "outputs": [
    {
     "data": {
      "text/plain": [
       "385    M\n",
       "461    M\n",
       "175    B\n",
       "507    B\n",
       "44     M\n",
       "Name: diagnosis, dtype: object"
      ]
     },
     "execution_count": 9,
     "metadata": {},
     "output_type": "execute_result"
    }
   ],
   "source": [
    "cancer_data['diagnosis'].sample(5) #Burada object olduğu için bunu kategorik yapabiliriz."
   ]
  },
  {
   "cell_type": "code",
   "execution_count": 12,
   "metadata": {},
   "outputs": [],
   "source": [
    "cancer_data[\"diagnosis\"] = cancer_data[\"diagnosis\"].astype(\"category\")"
   ]
  },
  {
   "cell_type": "markdown",
   "metadata": {},
   "source": [
    "# Supervised Learning Techniques:\n",
    "- Classification - Ayrık Değişken (Discrete Variable): Zar atışı sonucu, öğrenci sayısı.\n",
    "- Regression - Sürekli Değişken (Continous Veriable): Boy, ağırlık, sıcaklık.\n"
   ]
  },
  {
   "cell_type": "markdown",
   "metadata": {},
   "source": [
    "# Unsupervised Learning Techniques:\n",
    "- Clustirgn\n",
    "Modele bilgi vermeden kendi kendine öğrenmesini sağlıyoruz.\n",
    "Data hakkında çok bilgi yok\n",
    "Nasıl bir çıktı alacağımızı bilmiyoruz\n",
    "Supervised'a göre daha zor\n",
    "- Dimension reduction, density estimation, market basket analysis and clustirgn are the most widely used unsupervised ml techniques.\n"
   ]
  }
 ],
 "metadata": {
  "kernelspec": {
   "display_name": "base",
   "language": "python",
   "name": "python3"
  },
  "language_info": {
   "codemirror_mode": {
    "name": "ipython",
    "version": 3
   },
   "file_extension": ".py",
   "mimetype": "text/x-python",
   "name": "python",
   "nbconvert_exporter": "python",
   "pygments_lexer": "ipython3",
   "version": "3.11.5"
  }
 },
 "nbformat": 4,
 "nbformat_minor": 2
}
